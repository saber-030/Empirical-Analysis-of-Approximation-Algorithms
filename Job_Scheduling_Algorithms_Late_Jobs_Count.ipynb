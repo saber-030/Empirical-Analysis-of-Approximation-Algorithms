{
  "nbformat": 4,
  "nbformat_minor": 0,
  "metadata": {
    "colab": {
      "name": "Job Scheduling Algorithms - Late Jobs Count.ipynb",
      "provenance": [],
      "collapsed_sections": [],
      "include_colab_link": true
    },
    "kernelspec": {
      "name": "python3",
      "display_name": "Python 3"
    },
    "language_info": {
      "name": "python"
    }
  },
  "cells": [
    {
      "cell_type": "markdown",
      "metadata": {
        "id": "view-in-github",
        "colab_type": "text"
      },
      "source": [
        "<a href=\"https://colab.research.google.com/github/saber-030/Empirical-Analysis-of-Approximation-Algorithms/blob/main/Job_Scheduling_Algorithms_Late_Jobs_Count.ipynb\" target=\"_parent\"><img src=\"https://colab.research.google.com/assets/colab-badge.svg\" alt=\"Open In Colab\"/></a>"
      ]
    },
    {
      "cell_type": "markdown",
      "source": [
        "# **Job Scheduling - Late Jobs Count**"
      ],
      "metadata": {
        "id": "Bw1RhRfwjlAx"
      }
    },
    {
      "cell_type": "markdown",
      "metadata": {
        "id": "GGlVcNR7mFgV"
      },
      "source": [
        "# **Problem Descripion**\n",
        "\n",
        "Given an uni-processor system and an array of jobs where every job has a release date, due date and processing time, find the sequence which minimizes the total number of late jobs.\n",
        "\n",
        "$\\mathbf{Lateness_i} = \\begin{cases}\n",
        "& 1 \\quad \\text{ if ${(endTime_i - dueDate_i) > 0}$ , }  \\\\\n",
        "& 0 \\quad \\text{ otherwise}.\n",
        "\\end{cases}$\n",
        "\n",
        "\n",
        "$\\mathbf{LateJobCount} = \\sum_{i=1}^n Lateness_i$\n",
        "\n",
        "\n"
      ]
    },
    {
      "cell_type": "markdown",
      "metadata": {
        "id": "_d2IQ5LX-vo2"
      },
      "source": [
        "## **Inputs**\n",
        "\n",
        "*Job and process have the same meaning and can be swapped*\n",
        "\n",
        "- procTime = Processing time for a process. \n",
        "  - *Range: [1, 100]*\n",
        "\n",
        "\n",
        "- relDate = Release date (when the process becomes available for processing)\n",
        "  - *Range: [-100, 0)*\n",
        "\n",
        "\n",
        "- dueDate = When process is due. dueDate can be negative i.e. process is due even before it was available\n",
        "  - *Range: [0, 100]*\n",
        "\n",
        "***Note:*** *A dummy job which is always late is added in order to ensure that the optimal late job count is greater than 0*\n",
        "  "
      ]
    },
    {
      "cell_type": "markdown",
      "metadata": {
        "id": "-ONsAh7c-vo6"
      },
      "source": [
        "## **Scheduling Algorithms**\n",
        "\n",
        "1.   Brute Force, BF\n",
        "2.   First-Come First-Serve Scheduling, FCFS\n",
        "3.   Shortest-Job-First Scheduling, SJF\n",
        "4.   Earliest Due Date First Scheduling, EDD\n",
        "5.   Longest-Job-First Scheduling, LJF"
      ]
    },
    {
      "cell_type": "markdown",
      "metadata": {
        "id": "LLhx5xcO-vo9"
      },
      "source": [
        "# Import Statements"
      ]
    },
    {
      "cell_type": "code",
      "metadata": {
        "id": "ec673O_E-vo_"
      },
      "source": [
        "import numpy as np\n",
        "import itertools\n",
        "import heapq\n",
        "import matplotlib.pyplot as plt\n",
        "import seaborn as sns\n",
        "from tqdm import tqdm\n",
        "import time\n",
        "from sklearn.metrics import mean_squared_error"
      ],
      "execution_count": null,
      "outputs": []
    },
    {
      "cell_type": "markdown",
      "metadata": {
        "id": "NY2IF34qyu6i"
      },
      "source": [
        "# Test Variables\n",
        "Initialize seed and global variables\n",
        "\n",
        "Small single arrays, that we use for testing/debugging purposes\n"
      ]
    },
    {
      "cell_type": "code",
      "metadata": {
        "colab": {
          "base_uri": "https://localhost:8080/"
        },
        "outputId": "e5de08b8-89a8-4914-a140-a809035df959",
        "id": "Tcdzzwh5yu6k"
      },
      "source": [
        "procTime = np.random.randint(1,101,8)\n",
        "relDate = np.random.randint(0,101,8)\n",
        "dueDate = np.random.randint(-100,101,8)\n",
        "\n",
        "print(procTime)\n",
        "print(relDate)\n",
        "print(dueDate)"
      ],
      "execution_count": null,
      "outputs": [
        {
          "output_type": "stream",
          "name": "stdout",
          "text": [
            "[86 93 18 34 93  4 42 20]\n",
            "[93 57 12 44 95 17 88 25]\n",
            "[ 53 -13 -16  57 -76 -34 100  30]\n"
          ]
        }
      ]
    },
    {
      "cell_type": "code",
      "metadata": {
        "id": "3C22quW1yu6m"
      },
      "source": [
        "procTime2 = (2, 1, 4)\n",
        "relDate2 = (0, 2, 1)\n",
        "dueDate2 = (-1, 1, 10)"
      ],
      "execution_count": null,
      "outputs": []
    },
    {
      "cell_type": "markdown",
      "source": [
        "# Scheduling Algorithms"
      ],
      "metadata": {
        "id": "SdciTCmOCJL8"
      }
    },
    {
      "cell_type": "markdown",
      "metadata": {
        "id": "zyDlD_pAy3i-"
      },
      "source": [
        "## Brute Force Algorithm (Optimal)\n",
        "> Exponential time algorithm, that generates and checks all the permutations of the given set of jobs to search for the schedule which has the minimum number of late jobs. Since every possible combination is analysed, it always produces the optimal solution.\n",
        "\n",
        "---\n",
        "**Input:**\n",
        "- procTime\n",
        "- relDate\n",
        "- dueDate\n",
        "\n",
        "**Output:**\n",
        "- min_lateness\n",
        "- best_job_order\n",
        "- function_total_time\n",
        "\n",
        "---\n",
        "**Implementation and Details:**\n",
        "- First we combine the inputs in a unified data structure, along with adding an index.\n",
        "- Then, we generate all permutations of the input array and iterate over each permutation to calculate the late job count of that permutation.\n",
        "  - If the value of late job count is less than the min_lateness value, we update the min_lateness value and the best_job_order."
      ]
    },
    {
      "cell_type": "code",
      "metadata": {
        "id": "TBouopXdpH7o"
      },
      "source": [
        "def bruteForce(procTime, relDate, dueDate):\n",
        "  function_start_time = time.time()\n",
        "  best_job_order = list()\n",
        "  \n",
        "  params = []\n",
        "  \n",
        "  # Create a unified Data Structure with 3-tuple for each inputs\n",
        "  for i in range(len(procTime)):\n",
        "    tuple = (procTime[i], relDate[i], dueDate[i], i)\n",
        "    params.append(tuple)\n",
        "\n",
        "  # Generate all permutations of inputs\n",
        "  param_list = list(itertools.permutations(params))\n",
        "  min_lateness = 100000\n",
        "\n",
        "  # Iterate over the inputs to check each Schedule and find the optimal\n",
        "  for i in param_list:\n",
        "    tuple = i\n",
        "    end_time = -100\n",
        "    lateness = 0 \n",
        "    curr_job_order = list()\n",
        "    for j in tuple:\n",
        "      start_time = max(j[1], end_time)\n",
        "      end_time = start_time + j[0]\n",
        "      lateness += (1 if end_time - j[2] > 0 else 0)\n",
        "      curr_job_order.append(j[3]);\n",
        "    \n",
        "    if lateness <= min_lateness:\n",
        "      min_lateness = lateness\n",
        "      best_job_order = curr_job_order\n",
        "    # min_lateness = min(lateness, min_lateness)\n",
        "  \n",
        "  # print(min_lateness)\n",
        "\n",
        "  function_end_time = time.time()  \n",
        "  function_total_time = function_end_time - function_start_time\n",
        "  return min_lateness, best_job_order, function_total_time"
      ],
      "execution_count": null,
      "outputs": []
    },
    {
      "cell_type": "code",
      "metadata": {
        "id": "UCq5-fXSsGmq",
        "colab": {
          "base_uri": "https://localhost:8080/"
        },
        "outputId": "c5d2186e-465f-4ed5-d80f-888382ab8ba1"
      },
      "source": [
        "min_lateness, best_job_order, function_total_time = bruteForce(procTime2, relDate2, dueDate2)\n",
        "print(min_lateness)\n",
        "print(best_job_order)\n",
        "print(function_total_time)"
      ],
      "execution_count": null,
      "outputs": [
        {
          "output_type": "stream",
          "name": "stdout",
          "text": [
            "2\n",
            "[2, 1, 0]\n",
            "3.361701965332031e-05\n"
          ]
        }
      ]
    },
    {
      "cell_type": "markdown",
      "metadata": {
        "id": "olPGiyCIAqZj"
      },
      "source": [
        "## First Come First Serve Scheduling\n",
        "\n",
        "> FCFS is the simplest scheduling algorithm which serves the first request in FIFO fashion. Jobs released earliest are given preference in the available job pool.\n",
        "\n",
        "---\n",
        "**Input:**\n",
        "- procTime\n",
        "- relDate\n",
        "- dueDate\n",
        "\n",
        "**Output:**\n",
        "- min_lateness\n",
        "- best_job_order\n",
        "- function_total_time\n",
        "\n",
        "---\n",
        "**Implementation and Details:**\n",
        "- First we combine the inputs in a unified data structure, along with adding an index.\n",
        "- Then, we sort the input in increasing order of relDate and iterate over the sorted inputs to calculate the late job count."
      ]
    },
    {
      "cell_type": "code",
      "metadata": {
        "id": "MYYFV9Cgwvst"
      },
      "source": [
        "def FCFS(procTime, relDate, dueDate):\n",
        "  function_start_time = time.time()\n",
        "  best_job_order = list()\n",
        "  \n",
        "  params = []\n",
        "  jobId = [i for i in range(len(procTime))]\n",
        "\n",
        "  # Sort the inputs based on the Release Dates\n",
        "  relDate_s, dueDate_s, procTime_s, jobId_s = map(list, zip(*sorted(zip(relDate, dueDate, procTime, jobId), reverse=False)))\n",
        "  \n",
        "  # Create a unified Data Structure with 3-tuples for each input\n",
        "  for i in range(len(procTime)):\n",
        "    tuple = (procTime_s[i], relDate_s[i], dueDate_s[i], jobId_s[i])\n",
        "    params.append(tuple)\n",
        "\n",
        "  end_time = 0\n",
        "  lateness = 0 \n",
        "\n",
        "  # Iterate over the inputs in sorted order and calculate the maximum lateness\n",
        "  for i in params:\n",
        "    start_time = max(i[1], end_time)\n",
        "    end_time = start_time + i[0]\n",
        "    lateness += (1 if end_time - i[2] > 0 else 0)\n",
        "    best_job_order.append(int(i[3]))\n",
        "\n",
        "  # print(lateness)\n",
        "  function_end_time = time.time()  \n",
        "  function_total_time = function_end_time - function_start_time\n",
        "  return lateness, best_job_order, function_total_time"
      ],
      "execution_count": null,
      "outputs": []
    },
    {
      "cell_type": "code",
      "metadata": {
        "id": "nbbSmukzajFQ",
        "colab": {
          "base_uri": "https://localhost:8080/"
        },
        "outputId": "c78e6e02-2bbd-485d-f0d0-794c15ec65f7"
      },
      "source": [
        "min_lateness, best_job_order, function_total_time = FCFS(procTime2, relDate2, dueDate2)\n",
        "print(min_lateness)\n",
        "print(best_job_order)\n",
        "print(function_total_time)"
      ],
      "execution_count": null,
      "outputs": [
        {
          "output_type": "stream",
          "name": "stdout",
          "text": [
            "2\n",
            "[0, 2, 1]\n",
            "3.0279159545898438e-05\n"
          ]
        }
      ]
    },
    {
      "cell_type": "markdown",
      "metadata": {
        "id": "_6U0X0VPGboQ"
      },
      "source": [
        "## Shortest Job First Scheduling\n",
        "\n",
        "\n",
        "> SJF gives preference to the job with the shortest processing time in the available job pool.\n",
        "\n",
        "---\n",
        "**Input:**\n",
        "- procTime\n",
        "- relDate\n",
        "- dueDate\n",
        "\n",
        "**Output:**\n",
        "- min_lateness\n",
        "- best_job_order\n",
        "- function_total_time\n",
        "\n",
        "---\n",
        "**Implementation and Details:**\n",
        "- First we combine the inputs in a unified data structure, along with adding an index.\n",
        "- Then, we sort the input in increasing order of relDate.\n",
        "- At each step *i*:\n",
        "  - We iterate over the sorted inputs (*i* to *n-1*) to find *index* of the next job with the minimum procTime such that its relDate is less than the current job's end time.\n",
        "  - Calculate the end time of next job.\n",
        "  - Swap the rows with indices *i* and *index*.\n",
        "  - Check if next job is late, and accordingly add 1 to lateness."
      ]
    },
    {
      "cell_type": "code",
      "metadata": {
        "id": "xKwtpPPE8KUH"
      },
      "source": [
        "def SJF(procTime, relDate, dueDate):\n",
        "  function_start_time = time.time()\n",
        "  best_job_order = list()\n",
        "  \n",
        "  #Sort according to arrival time\n",
        "  params=np.zeros((0,6))\n",
        "  jobId = [i for i in range(len(procTime))]\n",
        "  \n",
        "  relDate_s, dueDate_s, procTime_s, jobId_s = map(list, zip(*sorted(zip(relDate, dueDate, procTime, jobId), reverse=False)))\n",
        "  \n",
        "  #Data preprocessing to convert it into usable format\n",
        "  for i in range(len(procTime)):\n",
        "    list1=(i+1,relDate_s[i], procTime_s[i], 0,dueDate_s[i], jobId_s[i])\n",
        "    params=np.vstack([params,list1])\n",
        "\n",
        "  #Initialize lateness \n",
        "  lateness=0\n",
        "\n",
        "  #keep track of swapping indices\n",
        "  index=0  \n",
        "\n",
        "  #total time when execution of first job is finished\n",
        "  params[0][3]=params[0][1]+params[0][2]  \n",
        "  best_job_order.append(int(params[0][5]))\n",
        "\n",
        "  #Get number of rows \n",
        "  n,col=params.shape\n",
        "\n",
        "  #run from 1 to n-1 because 1st job (index 0) will always run first. Total n-1 processes will run as a result of this loop\n",
        "  for i in range(1,n):   \n",
        "    #find time when currently processing job gets over\n",
        "    curr_time=params[i-1][3]      \n",
        "    #assume the next indice has job of minimum procTime\n",
        "    minimum=params[i][2]  \n",
        "\n",
        "    job_available = False\n",
        "\n",
        "    #find the minimum time among all currently available jobs (relDate<mimimum)\n",
        "    while job_available == False:\n",
        "      for j in range(i,n):  \n",
        "        if (curr_time>=params[j][1] and minimum >= params[j][2]):\n",
        "          minimum,index=params[j][2],j\n",
        "          job_available = True\n",
        "      curr_time += 1\n",
        "\n",
        "    #update the time when the available job with minimum time will get over (new time)        \n",
        "    params[index][3]=curr_time+params[index][2]   \n",
        "    \n",
        "    #Swap the rows \n",
        "    for z in range(0,6):\n",
        "      params[index][z],params[i][z]=params[i][z],params[index][z]  \n",
        "    best_job_order.append(int(params[i][5]))\n",
        "\n",
        "  # Execution of all n processes is complete! Now we calculate maximum lateness\n",
        "  for i in range(0,n):\n",
        "    #lateness=(Completion Time)-(Due date)\n",
        "    lateness += (1 if params[i][3]-params[i][4] > 0 else 0)\n",
        "\n",
        "  function_end_time = time.time()  \n",
        "  function_total_time = function_end_time - function_start_time\n",
        "  return lateness, best_job_order, function_total_time"
      ],
      "execution_count": null,
      "outputs": []
    },
    {
      "cell_type": "code",
      "metadata": {
        "id": "WBpoBPBDdNcN",
        "colab": {
          "base_uri": "https://localhost:8080/"
        },
        "outputId": "8943db57-e92b-43da-c5b3-ac0e607af6cb"
      },
      "source": [
        "min_lateness, best_job_order, function_total_time = SJF(procTime2, relDate2, dueDate2)\n",
        "print(min_lateness)\n",
        "print(best_job_order)\n",
        "print(function_total_time)"
      ],
      "execution_count": null,
      "outputs": [
        {
          "output_type": "stream",
          "name": "stdout",
          "text": [
            "2\n",
            "[0, 1, 2]\n",
            "0.00029587745666503906\n"
          ]
        }
      ]
    },
    {
      "cell_type": "markdown",
      "metadata": {
        "id": "uhOcHlipGwbZ"
      },
      "source": [
        "## Earliest Due Date Scheduling\n",
        "\n",
        "\n",
        "> EDD gives preference to the job with the earliest deadline in the available job pool.\n",
        "\n",
        "---\n",
        "**Input:**\n",
        "- procTime\n",
        "- relDate\n",
        "- dueDate\n",
        "\n",
        "**Output:**\n",
        "- min_lateness\n",
        "- best_job_order\n",
        "- function_total_time\n",
        "\n",
        "---\n",
        "**Implementation and Details:**\n",
        "- First we combine the inputs in a unified data structure, along with adding an index.\n",
        "- Then, we sort the input in increasing order of relDate.\n",
        "- At each step *i*:\n",
        "  - We iterate over the sorted inputs (*i* to *n-1*) to find *index* of next job with the minimum dueDate.\n",
        "  - Calculate the end time of next job.\n",
        "  - Swap the rows with indices *i* and *index*.\n",
        "  - Check if next job is late, and accordingly add 1 to lateness."
      ]
    },
    {
      "cell_type": "code",
      "metadata": {
        "id": "YxzBTXXIGLox"
      },
      "source": [
        "def EDD(procTime, relDate, dueDate):\n",
        "  function_start_time = time.time()\n",
        "  best_job_order = list()\n",
        "  \n",
        "  #Sort according to arrival time\n",
        "  params=np.zeros((0,6))\n",
        "  jobId = [i for i in range(len(procTime))]\n",
        "  \n",
        "  relDate_s, dueDate_s, procTime_s, jobId_s = map(list, zip(*sorted(zip(relDate, dueDate, procTime, jobId), reverse=False)))\n",
        "  \n",
        "  #Data preprocessing to convert it into usable format\n",
        "  for i in range(len(procTime)):\n",
        "    list1=(i+1,relDate_s[i], procTime_s[i], 0,dueDate_s[i], jobId_s[i])\n",
        "    params=np.vstack([params,list1])\n",
        "\n",
        "  #Initialize lateness \n",
        "  lateness=0\n",
        "\n",
        "  #keep track of swapping indices\n",
        "  index=0  \n",
        "\n",
        "  #total time when execution of first job is finished\n",
        "  params[0][3]=params[0][1]+params[0][2]  \n",
        "  best_job_order.append(int(params[0][5]))\n",
        "\n",
        "  #Get number of rows \n",
        "  n,col=params.shape\n",
        "\n",
        "  #run from 1 to n-1 because 1st job (index 0) will always run first. Total n-1 processes will run as a result of this loop\n",
        "  for i in range(1,n):\n",
        "    #find time when currently processing job gets over\n",
        "    curr_time=params[i-1][3]      \n",
        "    #assume the next indice has job of minimum dueDate\n",
        "    minimum=params[i][4]\n",
        "\n",
        "    #find the lowest dueDate time among all currently available jobs (dueDate<mimimum)\n",
        "    for j in range(i,n):\n",
        "      if (minimum >= params[j][4]):\n",
        "        minimum,index=params[j][4],j\n",
        "    \n",
        "    #update the time when the available job with lowest dueDate will get over (new time)  \n",
        "    params[index][3]=max(curr_time, params[index][1])+params[index][2] \n",
        "\n",
        "    #Swap the rows \n",
        "    for z in range(0,6):\n",
        "      params[index][z],params[i][z]=params[i][z],params[index][z]  \n",
        "\n",
        "    best_job_order.append(int(params[i][5]))\n",
        "\n",
        "  # Execution of all n processes is complete! Now we calculate maximum lateness\n",
        "  for i in range(0,n):\n",
        "    #lateness=(Completion Time)-(due date)\n",
        "    lateness += (1 if params[i][3]-params[i][4] > 0 else 0)\n",
        "\n",
        "  # print(params)\n",
        "\n",
        "  function_end_time = time.time()  \n",
        "  function_total_time = function_end_time - function_start_time\n",
        "  return lateness, best_job_order, function_total_time"
      ],
      "execution_count": null,
      "outputs": []
    },
    {
      "cell_type": "code",
      "metadata": {
        "id": "q2FHK3t4ae7S",
        "colab": {
          "base_uri": "https://localhost:8080/"
        },
        "outputId": "d1f583e3-171d-438f-8900-959538aaf87f"
      },
      "source": [
        "min_lateness, best_job_order, function_total_time = EDD(procTime2, relDate2, dueDate2)\n",
        "print(min_lateness)\n",
        "print(best_job_order)\n",
        "print(function_total_time)"
      ],
      "execution_count": null,
      "outputs": [
        {
          "output_type": "stream",
          "name": "stdout",
          "text": [
            "2\n",
            "[0, 1, 2]\n",
            "0.00029277801513671875\n"
          ]
        }
      ]
    },
    {
      "cell_type": "markdown",
      "metadata": {
        "id": "5JjAwQEhHA9G"
      },
      "source": [
        "## Largest Job First Scheduling\n",
        "\n",
        "\n",
        "> LJF gives preference to the job with the longest processing time in the available job pool.\n",
        "\n",
        "---\n",
        "**Input:**\n",
        "- procTime\n",
        "- relDate\n",
        "- dueDate\n",
        "\n",
        "**Output:**\n",
        "- min_lateness\n",
        "- best_job_order\n",
        "- function_total_time\n",
        "\n",
        "---\n",
        "**Implementation and Details:**\n",
        "- First we combine the inputs in a unified data structure, along with adding an index.\n",
        "- Then, we sort the input in increasing order of relDate.\n",
        "- At each step *i*:\n",
        "  - We iterate over the sorted inputs (*i* to *n-1*) to find *index* of the next job with the maximum procTime such that its relDate is less than the current job's end time.\n",
        "  - Calculate the end time of next job.\n",
        "  - Swap the rows with indices *i* and *index*.\n",
        "  - Check if next job is late, and accordingly add 1 to lateness."
      ]
    },
    {
      "cell_type": "code",
      "metadata": {
        "id": "impDUsvgKZUN"
      },
      "source": [
        "def LJF(procTime, relDate, dueDate):\n",
        "  function_start_time = time.time()\n",
        "  best_job_order = list()\n",
        "\n",
        "#Sort according to arrival time\n",
        "  params=np.zeros((0,6))\n",
        "\n",
        "  jobId = [i for i in range(len(procTime))]\n",
        "  relDate_s, dueDate_s, procTime_s, jobId_s = map(list, zip(*sorted(zip(relDate, dueDate, procTime, jobId), reverse=False)))\n",
        "  \n",
        "  #Data preprocessing to convert it into usable format\n",
        "  for i in range(len(procTime)):\n",
        "    list1=(i+1,relDate_s[i], procTime_s[i], 0,dueDate_s[i], jobId_s[i])\n",
        "    params=np.vstack([params,list1])\n",
        "\n",
        "  #Initialize lateness \n",
        "  lateness=0\n",
        "\n",
        "  #keep track of swapping indices\n",
        "  index=0  \n",
        "\n",
        "  #total time when execution of first job is finished\n",
        "  params[0][3]=params[0][1]+params[0][2]  \n",
        "  best_job_order.append(int(params[0][5]))\n",
        "\n",
        "  #Get number of rows \n",
        "  n,col=params.shape\n",
        "\n",
        "  #run from 1 to n-1 because 1st job (index 0) will always run first. Total n-1 processes will run as a result of this loop\n",
        "  for i in range(1,n):\n",
        "    #find time when currently processing job gets over\n",
        "    curr_time=params[i-1][3]\n",
        "    #assume the next indice has job of maximum procTime\n",
        "    maximum=params[i][2]\n",
        "\n",
        "    job_available = False\n",
        "    #find the maximum time among all currently available jobs (relDate>time)\n",
        "    while job_available == False:\n",
        "      for j in range(i,n):\n",
        "        if (curr_time>=params[j][1] and maximum <= params[j][2]):\n",
        "          maximum,index=params[j][2],j\n",
        "          job_available = True\n",
        "      curr_time += 1\n",
        "\n",
        "    #update the time when the available job with maximum time will get over (new time)  \n",
        "    params[index][3]=curr_time+params[index][2]\n",
        "\n",
        "    #Swap the rows \n",
        "    for z in range(0,5):\n",
        "      params[index][z],params[i][z]=params[i][z],params[index][z]  \n",
        "    best_job_order.append(int(params[i][5]))\n",
        "\n",
        "  # Execution of all n processes is complete! Now we calculate maximum lateness\n",
        "  for i in range(0,n):\n",
        "    #lateness=(Completion Time)-(due date)\n",
        "    lateness += (1 if params[i][3]-params[i][4] > 0 else 0)\n",
        "\n",
        "  function_end_time = time.time()  \n",
        "  function_total_time = function_end_time - function_start_time\n",
        "  return lateness, best_job_order, function_total_time"
      ],
      "execution_count": null,
      "outputs": []
    },
    {
      "cell_type": "code",
      "source": [
        "min_lateness, best_job_order, function_total_time = LJF(procTime2, relDate2, dueDate2)\n",
        "print(min_lateness)\n",
        "print(best_job_order)\n",
        "print(function_total_time)"
      ],
      "metadata": {
        "colab": {
          "base_uri": "https://localhost:8080/"
        },
        "id": "4sx0I1mYHMgq",
        "outputId": "5e4a8fe1-2be4-4b24-ccf8-f133885d4800"
      },
      "execution_count": null,
      "outputs": [
        {
          "output_type": "stream",
          "name": "stdout",
          "text": [
            "2\n",
            "[0, 2, 1]\n",
            "0.0002396106719970703\n"
          ]
        }
      ]
    },
    {
      "cell_type": "markdown",
      "source": [
        "# Tests"
      ],
      "metadata": {
        "id": "raAApiW-BW56"
      }
    },
    {
      "cell_type": "code",
      "metadata": {
        "colab": {
          "base_uri": "https://localhost:8080/"
        },
        "id": "iTsk2aC_K_W4",
        "outputId": "f19a54c4-1e2d-43e6-b68e-43f89bcc70b7"
      },
      "source": [
        "LJF(procTime, relDate, dueDate)"
      ],
      "execution_count": null,
      "outputs": [
        {
          "output_type": "execute_result",
          "data": {
            "text/plain": [
              "(8, [2, 5, 7, 3, 1, 6, 0, 4], 0.0005736351013183594)"
            ]
          },
          "metadata": {},
          "execution_count": 14
        }
      ]
    },
    {
      "cell_type": "code",
      "metadata": {
        "id": "-vZeIhoFu2Ni",
        "colab": {
          "base_uri": "https://localhost:8080/"
        },
        "outputId": "ea002518-4119-4cc8-d17e-a94ed3f344ad"
      },
      "source": [
        "FCFS(procTime, relDate, dueDate)"
      ],
      "execution_count": null,
      "outputs": [
        {
          "output_type": "execute_result",
          "data": {
            "text/plain": [
              "(8, [2, 5, 7, 3, 1, 6, 0, 4], 7.700920104980469e-05)"
            ]
          },
          "metadata": {},
          "execution_count": 15
        }
      ]
    },
    {
      "cell_type": "code",
      "metadata": {
        "id": "4YO2peZ_KE3E",
        "colab": {
          "base_uri": "https://localhost:8080/"
        },
        "outputId": "697d067f-2cfb-445d-d879-b38003e0fd30"
      },
      "source": [
        "EDD(procTime, relDate, dueDate)"
      ],
      "execution_count": null,
      "outputs": [
        {
          "output_type": "execute_result",
          "data": {
            "text/plain": [
              "(8, [2, 4, 5, 1, 7, 0, 3, 6], 0.0005195140838623047)"
            ]
          },
          "metadata": {},
          "execution_count": 16
        }
      ]
    },
    {
      "cell_type": "code",
      "metadata": {
        "id": "7yZDq1P7GHy3",
        "colab": {
          "base_uri": "https://localhost:8080/"
        },
        "outputId": "1194cc48-9f92-4a6a-e6ea-8e5208d691b1"
      },
      "source": [
        "SJF(procTime, relDate, dueDate)"
      ],
      "execution_count": null,
      "outputs": [
        {
          "output_type": "execute_result",
          "data": {
            "text/plain": [
              "(8, [2, 5, 7, 3, 6, 0, 4, 1], 0.004033088684082031)"
            ]
          },
          "metadata": {},
          "execution_count": 17
        }
      ]
    },
    {
      "cell_type": "markdown",
      "metadata": {
        "id": "I0eyq5HVcXNv"
      },
      "source": [
        "# Distance Metrics\n",
        "\n",
        "\n",
        "> Hamming Distance: Number of places where the 2 job permutations differ\n",
        "\n",
        "> RMS: Root mean squared distance between 2 different job orders\n",
        "\n",
        "> Manhattan Distance: Sum of the absolute differences between the two job orders\n",
        "\n",
        "\n"
      ]
    },
    {
      "cell_type": "code",
      "metadata": {
        "id": "hK7It_TDcb6A"
      },
      "source": [
        "def HD(perm1, perm2):\n",
        "  hd = 0\n",
        "  for i in range(len(perm1)):\n",
        "    if perm1[i]!=perm2[i]:\n",
        "      hd+=1\n",
        "  return hd"
      ],
      "execution_count": null,
      "outputs": []
    },
    {
      "cell_type": "code",
      "metadata": {
        "id": "LqlCpH1iC2RL"
      },
      "source": [
        "def RMS(perm1, perm2):\n",
        "  return mean_squared_error(perm1, perm2)"
      ],
      "execution_count": null,
      "outputs": []
    },
    {
      "cell_type": "code",
      "metadata": {
        "id": "tqYa6G-LHblp"
      },
      "source": [
        "def MHN(perm1, perm2):\n",
        "  return sum(abs(val1-val2) for val1, val2 in zip(perm1, perm2))"
      ],
      "execution_count": null,
      "outputs": []
    },
    {
      "cell_type": "markdown",
      "source": [
        "## Testing Distance Metrics"
      ],
      "metadata": {
        "id": "HfX3MZ9ej9kr"
      }
    },
    {
      "cell_type": "code",
      "metadata": {
        "colab": {
          "base_uri": "https://localhost:8080/"
        },
        "id": "6As6hFy4c4kb",
        "outputId": "90bdf950-94cb-4181-c421-16105baac0bc"
      },
      "source": [
        "a = [0,1,2]\n",
        "b = [0,2,1]\n",
        "print(HD(a,b))\n",
        "print(RMS(a,b))\n",
        "print(MHN(a,b))"
      ],
      "execution_count": null,
      "outputs": [
        {
          "output_type": "stream",
          "name": "stdout",
          "text": [
            "2\n",
            "0.6666666666666666\n",
            "2\n"
          ]
        }
      ]
    },
    {
      "cell_type": "markdown",
      "metadata": {
        "id": "xUY-UEm-7tf1"
      },
      "source": [
        "# Performance comparison of algorithms"
      ]
    },
    {
      "cell_type": "markdown",
      "source": [
        "## Simulate 100 random instances for n=2 to 8 "
      ],
      "metadata": {
        "id": "VnqvZ-RG3EmS"
      }
    },
    {
      "cell_type": "code",
      "metadata": {
        "id": "IsS79IL7UdVv"
      },
      "source": [
        "%%capture\n",
        "# Introduce Lateness variables for all Algorithms\n",
        "x_ljf_lateness=[]\n",
        "x_sjf_lateness=[]\n",
        "x_edd_lateness=[]\n",
        "x_fcfs_lateness=[]\n",
        "\n",
        "# Introduce Hamming Distance variables for all Algorithms\n",
        "x_ljf_hd=[]\n",
        "x_sjf_hd=[]\n",
        "x_edd_hd=[]\n",
        "x_fcfs_hd=[]\n",
        "\n",
        "# Introduce Time taken variables for all Algorithms\n",
        "x_ljf_time=[]\n",
        "x_sjf_time=[]\n",
        "x_edd_time=[]\n",
        "x_fcfs_time=[]\n",
        "x_brute_time=[]\n",
        "\n",
        "# Introduce Root Mean Square variables for all Algorithms\n",
        "x_ljf_rms=[]\n",
        "x_sjf_rms=[]\n",
        "x_edd_rms=[]\n",
        "x_fcfs_rms=[]\n",
        "\n",
        "# Introduce Manhattan Distance variables for all Algorithms\n",
        "x_ljf_mhn=[]\n",
        "x_sjf_mhn=[]\n",
        "x_edd_mhn=[]\n",
        "x_fcfs_mhn=[]\n",
        "\n",
        "\n",
        "for i in range(2, 9):\n",
        "  ljf = []\n",
        "  fcfs = []\n",
        "  edd = []\n",
        "  sjf = []\n",
        "\n",
        "  ljf_hd = []\n",
        "  fcfs_hd = []\n",
        "  edd_hd = []\n",
        "  sjf_hd = []\n",
        "\n",
        "  brute_time = []\n",
        "  ljf_time = []\n",
        "  fcfs_time = []\n",
        "  edd_time = []\n",
        "  sjf_time = []\n",
        "\n",
        "  ljf_rms = []\n",
        "  fcfs_rms = []\n",
        "  edd_rms = []\n",
        "  sjf_rms = []\n",
        "\n",
        "  ljf_mhn = []\n",
        "  fcfs_mhn = []\n",
        "  edd_mhn = []\n",
        "  sjf_mhn = []\n",
        "\n",
        "\n",
        "  print(\">>> Input size:\",i+1)\n",
        "  for j in tqdm(range(1, 101)):\n",
        "    np.random.seed(j*j)\n",
        "    procTime = np.random.randint(1,101,i)\n",
        "    relDate = np.random.randint(-100,0,i)\n",
        "    dueDate = np.random.randint(0,101,i)\n",
        "    \n",
        "    # Add dummy job which is always late\n",
        "    procTime = np.append(procTime, 2)\n",
        "    relDate = np.append(relDate, -1)\n",
        "    dueDate = np.append(dueDate, 0)\n",
        "\n",
        "    bf_min_lateness, bf_best_job_order, bf_function_total_time = bruteForce(procTime, relDate, dueDate)\n",
        "    lj_min_lateness, lj_best_job_order, lj_function_total_time = LJF(procTime, relDate, dueDate)\n",
        "    fc_min_lateness, fc_best_job_order, fc_function_total_time = FCFS(procTime, relDate, dueDate)\n",
        "    ed_min_lateness, ed_best_job_order, ed_function_total_time = EDD(procTime, relDate, dueDate)\n",
        "    sj_min_lateness, sj_best_job_order, sj_function_total_time = SJF(procTime, relDate, dueDate)\n",
        "\n",
        "    # Hamming Distance\n",
        "    fc_hd = HD(fc_best_job_order, bf_best_job_order)\n",
        "    ed_hd = HD(ed_best_job_order, bf_best_job_order)\n",
        "    sj_hd = HD(sj_best_job_order, bf_best_job_order)\n",
        "    lj_hd = HD(lj_best_job_order, bf_best_job_order)\n",
        "\n",
        "    # RMS\n",
        "    fc_rms = RMS(fc_best_job_order, bf_best_job_order)\n",
        "    ed_rms = RMS(ed_best_job_order, bf_best_job_order)\n",
        "    sj_rms = RMS(sj_best_job_order, bf_best_job_order)\n",
        "    lj_rms = RMS(lj_best_job_order, bf_best_job_order)\n",
        "\n",
        "    # MHN\n",
        "    fc_mhn = MHN(fc_best_job_order, bf_best_job_order)\n",
        "    ed_mhn = MHN(ed_best_job_order, bf_best_job_order)\n",
        "    sj_mhn = MHN(sj_best_job_order, bf_best_job_order)\n",
        "    lj_mhn = MHN(lj_best_job_order, bf_best_job_order)\n",
        "\n",
        "    fcfs.append(fc_min_lateness/bf_min_lateness)\n",
        "    edd.append(ed_min_lateness/bf_min_lateness)\n",
        "    sjf.append(sj_min_lateness/bf_min_lateness)\n",
        "    ljf.append(lj_min_lateness/bf_min_lateness)\n",
        "\n",
        "    fcfs_hd.append(fc_hd)\n",
        "    edd_hd.append(ed_hd)\n",
        "    sjf_hd.append(sj_hd)\n",
        "    ljf_hd.append(lj_hd)\n",
        "\n",
        "    fcfs_rms.append(fc_rms)\n",
        "    edd_rms.append(ed_rms)\n",
        "    sjf_rms.append(sj_rms)\n",
        "    ljf_rms.append(lj_rms)\n",
        "\n",
        "    fcfs_mhn.append(fc_mhn)\n",
        "    edd_mhn.append(ed_mhn)\n",
        "    sjf_mhn.append(sj_mhn)\n",
        "    ljf_mhn.append(lj_mhn)\n",
        "\n",
        "    brute_time.append(bf_function_total_time)\n",
        "    fcfs_time.append(fc_function_total_time)\n",
        "    edd_time.append(ed_function_total_time)\n",
        "    sjf_time.append(sj_function_total_time)\n",
        "    ljf_time.append(lj_function_total_time)\n",
        "\n",
        "    # print(\"   Brute: \", bf)\n",
        "    # print(\"   LJF: \", lj)\n",
        "    # print(\"   FCFS: \", fc)\n",
        "    # print(\"   EDD: \", ed)\n",
        "    # print(\"   SJF: \", sj)\n",
        "    # print(\"------------------------------------------------------------------------\")\n",
        "\n",
        "  print(\"   Av LJF v Brute:\", sum(ljf)/len(ljf))\n",
        "  x_ljf_lateness.append(sum(ljf)/len(ljf))\n",
        "  print(\"   Av FCFS v Brute:\", sum(fcfs)/len(fcfs))\n",
        "  x_fcfs_lateness.append(sum(fcfs)/len(fcfs))\n",
        "  print(\"   Av EDD v Brute:\", sum(edd)/len(edd))\n",
        "  x_edd_lateness.append(sum(edd)/len(edd))\n",
        "  print(\"   Av SJF v Brute:\", sum(sjf)/len(sjf))\n",
        "  x_sjf_lateness.append(sum(sjf)/len(sjf))\n",
        "\n",
        "  print(\"------------------------------------------------------------------------\")\n",
        "  print(\"   Av LJF HD:\", sum(ljf_hd)/len(ljf_hd))\n",
        "  x_ljf_hd.append(sum(ljf_hd)/len(ljf_hd))\n",
        "  print(\"   Av FCFS HD:\", sum(fcfs_hd)/len(fcfs_hd))\n",
        "  x_fcfs_hd.append(sum(fcfs_hd)/len(fcfs_hd))\n",
        "  print(\"   Av EDD HD:\", sum(edd_hd)/len(edd_hd))\n",
        "  x_edd_hd.append(sum(edd_hd)/len(edd_hd))\n",
        "  print(\"   Av SJF HD:\", sum(sjf_hd)/len(sjf_hd))\n",
        "  x_sjf_hd.append(sum(sjf_hd)/len(sjf_hd))\n",
        "\n",
        "  print(\"------------------------------------------------------------------------\")\n",
        "  print(\"   Av Brute time:\", sum(brute_time)/len(brute_time))\n",
        "  x_brute_time.append(sum(brute_time)/len(brute_time))\n",
        "  print(\"   Av LJF time:\", sum(ljf_time)/len(ljf_time))\n",
        "  x_ljf_time.append(sum(ljf_time)/len(ljf_time))\n",
        "  print(\"   Av FCFS time:\", sum(fcfs_time)/len(fcfs_time))\n",
        "  x_fcfs_time.append(sum(fcfs_time)/len(fcfs_time))\n",
        "  print(\"   Av EDD time:\", sum(edd_time)/len(edd_time))\n",
        "  x_edd_time.append(sum(edd_time)/len(edd_time))\n",
        "  print(\"   Av SJF time:\", sum(sjf_time)/len(sjf_time))\n",
        "  x_sjf_time.append(sum(sjf_time)/len(sjf_time))\n",
        "  print(\"------------------------------------------------------------------------\")\n",
        "\n",
        "  print(\"   Av LJF rms:\", sum(ljf_rms)/len(ljf_rms))\n",
        "  x_ljf_rms.append(sum(ljf_rms)/len(ljf_rms))\n",
        "  print(\"   Av FCFS rms:\", sum(fcfs_rms)/len(fcfs_rms))\n",
        "  x_fcfs_rms.append(sum(fcfs_rms)/len(fcfs_rms))\n",
        "  print(\"   Av EDD rms:\", sum(edd_rms)/len(edd_rms))\n",
        "  x_edd_rms.append(sum(edd_rms)/len(edd_rms))\n",
        "  print(\"   Av SJF rms:\", sum(sjf_rms)/len(sjf_rms))\n",
        "  x_sjf_rms.append(sum(sjf_rms)/len(sjf_rms))\n",
        "\n",
        "  print(\"------------------------------------------------------------------------\")\n",
        "\n",
        "  print(\"   Av LJF mhn:\", sum(ljf_mhn)/len(ljf_mhn))\n",
        "  x_ljf_mhn.append(sum(ljf_mhn)/len(ljf_mhn))\n",
        "  print(\"   Av FCFS mhn:\", sum(fcfs_mhn)/len(fcfs_mhn))\n",
        "  x_fcfs_mhn.append(sum(fcfs_mhn)/len(fcfs_mhn))\n",
        "  print(\"   Av EDD mhn:\", sum(edd_mhn)/len(edd_mhn))\n",
        "  x_edd_mhn.append(sum(edd_mhn)/len(edd_mhn))\n",
        "  print(\"   Av SJF mhn:\", sum(sjf_mhn)/len(sjf_mhn))\n",
        "  x_sjf_mhn.append(sum(sjf_mhn)/len(sjf_mhn))\n",
        "\n",
        "  print(\"------------------------------------------------------------------------\")"
      ],
      "execution_count": null,
      "outputs": []
    },
    {
      "cell_type": "markdown",
      "source": [
        "## Visualization"
      ],
      "metadata": {
        "id": "pO5OzE4qBgH3"
      }
    },
    {
      "cell_type": "markdown",
      "source": [
        "### Lateness Plot\n"
      ],
      "metadata": {
        "id": "9VY5ML3OCIA7"
      }
    },
    {
      "cell_type": "code",
      "metadata": {
        "colab": {
          "base_uri": "https://localhost:8080/",
          "height": 728
        },
        "outputId": "ded2aa0c-230a-4fcf-c932-39fca9e92e3c",
        "id": "SOBcKDQxHzPW"
      },
      "source": [
        "integer_array=np.arange(start=3,stop=10,step=1)\n",
        "\n",
        "# Setup for visualization\n",
        "sns.set_style('white')\n",
        "sns.color_palette('deep')\n",
        "plt.figure(figsize=(20,12), tight_layout=False)\n",
        "plt.rc('axes', titlesize=18)     # fontsize of the axes title\n",
        "plt.rc('axes', labelsize=15)     # fontsize of the x and y labels\n",
        "plt.rc('xtick', labelsize=18)    # fontsize of the tick labels\n",
        "plt.rc('ytick', labelsize=18)    # fontsize of the tick labels\n",
        "plt.rc('legend', fontsize=18)    # legend fontsize\n",
        "plt.rc('font', size=16)          # controls default text sizes\n",
        "plt.subplot(1,2,1)\n",
        "\n",
        "# Plot of Lateness Ratios of each algorithm w.r.t Brute force\n",
        "plt.title(\"Average Ratio of Lateness vs Brute:\")\n",
        "plt.plot(integer_array, x_fcfs_lateness, label=\"fcfs\")\n",
        "plt.plot(integer_array, x_ljf_lateness, label=\"ljf\")\n",
        "plt.plot(integer_array, x_sjf_lateness, label=\"sjf\")\n",
        "plt.plot(integer_array, x_edd_lateness, label=\"edd\")\n",
        "plt.legend(loc=\"upper left\")\n",
        "plt.show()"
      ],
      "execution_count": null,
      "outputs": [
        {
          "output_type": "display_data",
          "data": {
            "image/png": "[encoded data removed]",
            "text/plain": [
              "<Figure size 1440x864 with 1 Axes>"
            ]
          },
          "metadata": {}
        }
      ]
    },
    {
      "cell_type": "markdown",
      "source": [
        "### Run Time plot"
      ],
      "metadata": {
        "id": "GQvjLtHcCRy7"
      }
    },
    {
      "cell_type": "code",
      "metadata": {
        "colab": {
          "base_uri": "https://localhost:8080/",
          "height": 293
        },
        "outputId": "7ce111aa-2549-4d2a-8e11-848db4b23084",
        "id": "ohwbPt6RHzPi"
      },
      "source": [
        "plt.title(\"Run Time\")\n",
        "plt.plot(integer_array, x_fcfs_time, label=\"fcfs\")\n",
        "plt.plot(integer_array, x_ljf_time, label=\"ljf\")\n",
        "plt.plot(integer_array, x_sjf_time, label=\"sjf\")\n",
        "plt.plot(integer_array, x_edd_time, label=\"edd\")\n",
        "plt.legend(loc=\"upper left\")\n",
        "plt.show()"
      ],
      "execution_count": null,
      "outputs": [
        {
          "output_type": "display_data",
          "data": {
            "image/png": "[encoded data removed]",
            "text/plain": [
              "<Figure size 432x288 with 1 Axes>"
            ]
          },
          "metadata": {}
        }
      ]
    },
    {
      "cell_type": "markdown",
      "source": [
        "### Hamming Distance Plot"
      ],
      "metadata": {
        "id": "XGCwgX6zCLdj"
      }
    },
    {
      "cell_type": "code",
      "metadata": {
        "colab": {
          "base_uri": "https://localhost:8080/",
          "height": 293
        },
        "outputId": "9305a23c-61c1-4658-ce07-b105eaabb09c",
        "id": "j2vUMuSmHzPp"
      },
      "source": [
        "# Plot of average Hamming Distance of each algorithm w.r.t Brute force\n",
        "\n",
        "plt.title(\"Average Hamming Distance vs Brute\")\n",
        "plt.plot(integer_array, x_fcfs_hd, label=\"fcfs\")\n",
        "plt.plot(integer_array, x_ljf_hd, label=\"ljf\")\n",
        "plt.plot(integer_array, x_sjf_hd, label=\"sjf\")\n",
        "plt.plot(integer_array, x_edd_hd, label=\"edd\")\n",
        "plt.legend(loc=\"upper left\")\n",
        "plt.show()"
      ],
      "execution_count": null,
      "outputs": [
        {
          "output_type": "display_data",
          "data": {
            "image/png": "[encoded data removed]",
            "text/plain": [
              "<Figure size 432x288 with 1 Axes>"
            ]
          },
          "metadata": {}
        }
      ]
    },
    {
      "cell_type": "markdown",
      "source": [
        "### RMS Plot"
      ],
      "metadata": {
        "id": "BPSoe7tqCUUG"
      }
    },
    {
      "cell_type": "code",
      "metadata": {
        "colab": {
          "base_uri": "https://localhost:8080/",
          "height": 293
        },
        "outputId": "a61eefe0-247a-47d0-9138-46cda6e8c1f3",
        "id": "Y7iSqemYHzPv"
      },
      "source": [
        "# Plot of average RMS of each algorithm w.r.t Brute force\n",
        "\n",
        "plt.title(\"Average RMS vs Brute:\")\n",
        "plt.plot(integer_array, x_fcfs_rms, label=\"fcfs\")\n",
        "plt.plot(integer_array, x_ljf_rms, label=\"ljf\")\n",
        "plt.plot(integer_array, x_sjf_rms, label=\"sjf\")\n",
        "plt.plot(integer_array, x_edd_rms, label=\"edd\")\n",
        "plt.legend(loc=\"upper left\")\n",
        "plt.show()"
      ],
      "execution_count": null,
      "outputs": [
        {
          "output_type": "display_data",
          "data": {
            "image/png": "[encoded data removed]",
            "text/plain": [
              "<Figure size 432x288 with 1 Axes>"
            ]
          },
          "metadata": {}
        }
      ]
    },
    {
      "cell_type": "markdown",
      "source": [
        "### Manhattan Distance"
      ],
      "metadata": {
        "id": "ixtg9ZL-CpOO"
      }
    },
    {
      "cell_type": "code",
      "metadata": {
        "colab": {
          "base_uri": "https://localhost:8080/",
          "height": 293
        },
        "outputId": "54a6d95b-f53c-48b7-ae0e-b0f39d183d5f",
        "id": "SQBwSAYaHzPz"
      },
      "source": [
        "# Plot of average Manhattan Distance of each algorithm w.r.t Brute force\n",
        "\n",
        "plt.title(\"Average Manhattan Distance vs Brute:\")\n",
        "plt.plot(integer_array, x_fcfs_mhn, label=\"fcfs\")\n",
        "plt.plot(integer_array, x_ljf_mhn, label=\"ljf\")\n",
        "plt.plot(integer_array, x_sjf_mhn, label=\"sjf\")\n",
        "plt.plot(integer_array, x_edd_mhn, label=\"edd\")\n",
        "plt.legend(loc=\"upper left\")\n",
        "plt.show()"
      ],
      "execution_count": null,
      "outputs": [
        {
          "output_type": "display_data",
          "data": {
            "image/png": "[encoded data removed]",
            "text/plain": [
              "<Figure size 432x288 with 1 Axes>"
            ]
          },
          "metadata": {}
        }
      ]
    },
    {
      "cell_type": "markdown",
      "source": [
        "**Observations from the above graphs:**\n",
        "\n",
        "* For most input instances the approximation ratio for shortest job first is the lowest. It also has a much lesser slope compared to other algorithms. This suggests that the SJF algorithm, generally speaking is the best performing algorithm (gives least total lateness) and LJF is at the other end of the spectrum (gives maximum total lateness). \n",
        "\n",
        "* However, it is intriguing that in terms of difference in job orders when compared with brute force, almost all algorithms perform similarly. This can be explained from the fact that when considering the problem of minimizing the count of late jobs, it does not matter which job is late and by how much. A job might be late by 100 time units while another might be late by 1. Yet, both the jobs contribute equally to the parameter in question."
      ],
      "metadata": {
        "id": "u9eC8_Q05-y2"
      }
    }
  ]
}