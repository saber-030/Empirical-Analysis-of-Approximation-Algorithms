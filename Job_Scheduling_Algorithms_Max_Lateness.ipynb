{
  "nbformat": 4,
  "nbformat_minor": 0,
  "metadata": {
    "colab": {
      "name": "Job Scheduling Algorithms - Max Lateness.ipynb",
      "provenance": [],
      "collapsed_sections": [],
      "toc_visible": true,
      "include_colab_link": true
    },
    "kernelspec": {
      "name": "python3",
      "display_name": "Python 3"
    },
    "language_info": {
      "name": "python"
    }
  },
  "cells": [
    {
      "cell_type": "markdown",
      "metadata": {
        "id": "view-in-github",
        "colab_type": "text"
      },
      "source": [
        "<a href=\"https://colab.research.google.com/github/saber-030/Empirical-Analysis-of-Approximation-Algorithms/blob/main/Job_Scheduling_Algorithms_Max_Lateness.ipynb\" target=\"_parent\"><img src=\"https://colab.research.google.com/assets/colab-badge.svg\" alt=\"Open In Colab\"/></a>"
      ]
    },
    {
      "cell_type": "markdown",
      "source": [
        "# **Job Scheduling - Maximum Lateness**"
      ],
      "metadata": {
        "id": "Bw1RhRfwjlAx"
      }
    },
    {
      "cell_type": "markdown",
      "metadata": {
        "id": "GGlVcNR7mFgV"
      },
      "source": [
        "# **Problem Descripion**\n",
        "\n",
        "Given an uni-processor system and an array of jobs where every job has a release date, due date and processing time, find the sequence which minimizes the maxmimum lateness among all the jobs.\n",
        "\n",
        "$\\mathbf{Lateness_i} = max(0, endTime_i - dueDate_i$)\n",
        "\n",
        "$\\mathbf{Maximum Lateness} = \\max_{i=1}^n Lateness_i$\n",
        "\n",
        "\n"
      ]
    },
    {
      "cell_type": "markdown",
      "metadata": {
        "id": "j0Y0NNzenQFo"
      },
      "source": [
        "## **Inputs**\n",
        "\n",
        "*Job and process have the same meaning and can be swapped*\n",
        "\n",
        "- procTime = Processing time for a process. \n",
        "  - *Range: [1, 100]*\n",
        "\n",
        "\n",
        "- relDate = Release date (when the process becomes available for processing)\n",
        "  - *Range: [0, 100]*\n",
        "\n",
        "\n",
        "- dueDate = When process is due. dueDate can be negative i.e. process is due even before it was available\n",
        "  - *Range: [-100, 0)*"
      ]
    },
    {
      "cell_type": "markdown",
      "metadata": {
        "id": "yCHHLkIDCSlo"
      },
      "source": [
        "## **Scheduling Algorithms**\n",
        "\n",
        "1.   Brute Force, BF\n",
        "2.   First-Come First-Serve Scheduling, FCFS\n",
        "3.   Shortest-Job-First Scheduling, SJF\n",
        "4.   Earliest Due Date First Scheduling, EDD\n",
        "5.   Longest-Job-First Scheduling, LJF"
      ]
    },
    {
      "cell_type": "markdown",
      "metadata": {
        "id": "ZLOo5iynuVzf"
      },
      "source": [
        "# Import Statements"
      ]
    },
    {
      "cell_type": "code",
      "metadata": {
        "id": "4SaM7aMW2KWs"
      },
      "source": [
        "import numpy as np\n",
        "import itertools\n",
        "import heapq\n",
        "import matplotlib.pyplot as plt\n",
        "import seaborn as sns\n",
        "from tqdm import tqdm\n",
        "import time\n",
        "from sklearn.metrics import mean_squared_error"
      ],
      "execution_count": null,
      "outputs": []
    },
    {
      "cell_type": "markdown",
      "metadata": {
        "id": "NY2IF34qyu6i"
      },
      "source": [
        "# Test Variables\n",
        "Initialize seed and global variables\n",
        "\n",
        "Small single arrays, that we use for testing/debugging purposes\n"
      ]
    },
    {
      "cell_type": "code",
      "metadata": {
        "colab": {
          "base_uri": "https://localhost:8080/"
        },
        "outputId": "e625ad07-834f-43ab-deee-8f35e748ea87",
        "id": "Tcdzzwh5yu6k"
      },
      "source": [
        "procTime = np.random.randint(1,101,8)\n",
        "relDate = np.random.randint(0,101,8)\n",
        "dueDate = np.random.randint(-100,101,8)\n",
        "\n",
        "print(procTime)\n",
        "print(relDate)\n",
        "print(dueDate)"
      ],
      "execution_count": null,
      "outputs": [
        {
          "output_type": "stream",
          "name": "stdout",
          "text": [
            "[67 76 14 86 89  5 31 30]\n",
            "[95 72 59 55 19 88 38 23]\n",
            "[  9  40  68   1  19 -11  42  -6]\n"
          ]
        }
      ]
    },
    {
      "cell_type": "code",
      "metadata": {
        "id": "3C22quW1yu6m"
      },
      "source": [
        "procTime2 = (2, 1, 4)\n",
        "relDate2 = (0, 2, 1)\n",
        "dueDate2 = (-1, 1, 10)"
      ],
      "execution_count": null,
      "outputs": []
    },
    {
      "cell_type": "markdown",
      "source": [
        "# Scheduling Algorithms"
      ],
      "metadata": {
        "id": "SdciTCmOCJL8"
      }
    },
    {
      "cell_type": "markdown",
      "metadata": {
        "id": "zyDlD_pAy3i-"
      },
      "source": [
        "## Brute Force Algorithm (Optimal)\n",
        "> Exponential time algorithm, that generates and checks all the permutations of the given set of jobs to search for the schedule which has the minimum max lateness. Since every possible combination is analysed, it always produces the optimal solution.\n",
        "\n",
        "---\n",
        "**Input:**\n",
        "- procTime\n",
        "- relDate\n",
        "- dueDate\n",
        "\n",
        "**Output:**\n",
        "- min_lateness\n",
        "- best_job_order\n",
        "- function_total_time\n",
        "\n",
        "---\n",
        "**Implementation and Details:**\n",
        "- First we combine the inputs in a unified data structure, along with adding an index.\n",
        "- Then, we generate all permutations of the input array and iterate over each permutation to calculate the max lateness of that permutation.\n",
        "  - If the value of max lateness is less than the min_lateness value, we update the min_lateness value and the best_job_order."
      ]
    },
    {
      "cell_type": "code",
      "metadata": {
        "id": "TBouopXdpH7o"
      },
      "source": [
        "def bruteForce(procTime, relDate, dueDate):\n",
        "  # for runtime and time complexity\n",
        "  function_start_time = time.time()\n",
        "  best_job_order = list()\n",
        "  \n",
        "  params = []\n",
        "  \n",
        "  # Create a unified Data Structure with 3-tuple for each inputs\n",
        "  for i in range(len(procTime)):\n",
        "    tuple = (procTime[i], relDate[i], dueDate[i], i)\n",
        "    params.append(tuple)\n",
        "\n",
        "  # Generate all permutations of inputs\n",
        "  param_list = list(itertools.permutations(params))\n",
        "  min_lateness = 100000\n",
        "\n",
        "  # Iterate over the inputs to check each Schedule and find the optimal\n",
        "  for i in param_list:\n",
        "    tuple = i\n",
        "    end_time = 0\n",
        "    lateness = 0 \n",
        "    curr_job_order = list()\n",
        "\n",
        "    # calculate lateness and job order for each permutation of the parameters (params)\n",
        "    for j in tuple:\n",
        "\n",
        "      #define start, end and lateness\n",
        "      start_time = max(j[1], end_time)\n",
        "      end_time = start_time + j[0]\n",
        "      lateness = max(lateness, end_time - j[2])\n",
        "      curr_job_order.append(j[3]);\n",
        "    \n",
        "    # update minimum lateness and best job order if it is the current permutation with minimum lateness\n",
        "    if lateness <= min_lateness:\n",
        "      min_lateness = lateness\n",
        "      best_job_order = curr_job_order\n",
        "    # min_lateness = min(lateness, min_lateness)\n",
        "  \n",
        "  # print(min_lateness)\n",
        "\n",
        "  function_end_time = time.time()  \n",
        "\n",
        "  # check total run time for the function\n",
        "  function_total_time = function_end_time - function_start_time\n",
        "  return min_lateness, best_job_order, function_total_time"
      ],
      "execution_count": null,
      "outputs": []
    },
    {
      "cell_type": "code",
      "metadata": {
        "id": "UCq5-fXSsGmq",
        "colab": {
          "base_uri": "https://localhost:8080/"
        },
        "outputId": "f63238fd-ebeb-428c-f200-188c6c22c4cb"
      },
      "source": [
        "min_lateness, best_job_order, function_total_time = bruteForce(procTime2, relDate2, dueDate2)\n",
        "print(min_lateness)\n",
        "print(best_job_order)\n",
        "print(function_total_time)"
      ],
      "execution_count": null,
      "outputs": [
        {
          "output_type": "stream",
          "name": "stdout",
          "text": [
            "3\n",
            "[0, 1, 2]\n",
            "2.6941299438476562e-05\n"
          ]
        }
      ]
    },
    {
      "cell_type": "markdown",
      "metadata": {
        "id": "vrNjEskEzNZ3"
      },
      "source": [
        "## First Come First Serve Scheduling\n",
        "\n",
        "> FCFS is the simplest scheduling algorithm which serves the first request in FIFO fashion. Jobs released earliest are given preference in the available job pool.\n",
        "\n",
        "---\n",
        "**Input:**\n",
        "- procTime\n",
        "- relDate\n",
        "- dueDate\n",
        "\n",
        "**Output:**\n",
        "- min_lateness\n",
        "- best_job_order\n",
        "- function_total_time\n",
        "\n",
        "---\n",
        "**Implementation and Details:**\n",
        "- First we combine the inputs in a unified data structure, along with adding an index.\n",
        "- Then, we sort the input in increasing order of relDate and iterate over the sorted inputs to calculate the max lateness."
      ]
    },
    {
      "cell_type": "code",
      "metadata": {
        "id": "MYYFV9Cgwvst"
      },
      "source": [
        "def FCFS(procTime, relDate, dueDate):\n",
        "  # for runtime and time complexity\n",
        "  function_start_time = time.time() \n",
        "  best_job_order = list() \n",
        "  \n",
        "  params = []\n",
        "  jobId = [i for i in range(len(procTime))]\n",
        "\n",
        "  # Sort the inputs based on the Release Dates\n",
        "  relDate_s, dueDate_s, procTime_s, jobId_s = map(list, zip(*sorted(zip(relDate, dueDate, procTime, jobId), reverse=False)))\n",
        "  \n",
        "  # Create a unified Data Structure with 3-tuples for each input\n",
        "  for i in range(len(procTime)):\n",
        "    tuple = (procTime_s[i], relDate_s[i], dueDate_s[i], jobId_s[i])\n",
        "    params.append(tuple)\n",
        "\n",
        "  end_time = 0\n",
        "  lateness = 0 \n",
        "\n",
        "  # Iterate over the inputs in sorted order and calculate the maximum lateness\n",
        "  for i in params:\n",
        "    start_time = max(i[1], end_time)\n",
        "    end_time = start_time + i[0]\n",
        "    lateness = max(lateness, end_time - i[2])\n",
        "    best_job_order.append(int(i[3]))\n",
        "\n",
        "  # print(lateness)\n",
        "  function_end_time = time.time()  \n",
        "  function_total_time = function_end_time - function_start_time\n",
        "  return lateness, best_job_order, function_total_time"
      ],
      "execution_count": null,
      "outputs": []
    },
    {
      "cell_type": "code",
      "metadata": {
        "id": "nbbSmukzajFQ",
        "colab": {
          "base_uri": "https://localhost:8080/"
        },
        "outputId": "6ab1fa33-1143-4ee6-b1cd-be6550d5285d"
      },
      "source": [
        "min_lateness, best_job_order, function_total_time = FCFS(procTime2, relDate2, dueDate2)\n",
        "print(min_lateness)\n",
        "print(best_job_order)\n",
        "print(function_total_time)"
      ],
      "execution_count": null,
      "outputs": [
        {
          "output_type": "stream",
          "name": "stdout",
          "text": [
            "6\n",
            "[0, 2, 1]\n",
            "1.8596649169921875e-05\n"
          ]
        }
      ]
    },
    {
      "cell_type": "markdown",
      "metadata": {
        "id": "1yYI-nM07fE1"
      },
      "source": [
        "## Shortest Job First Scheduling\n",
        "\n",
        "\n",
        "> SJF gives preference to the job with the shortest processing time in the available job pool.\n",
        "\n",
        "---\n",
        "**Input:**\n",
        "- procTime\n",
        "- relDate\n",
        "- dueDate\n",
        "\n",
        "**Output:**\n",
        "- min_lateness\n",
        "- best_job_order\n",
        "- function_total_time\n",
        "\n",
        "---\n",
        "**Implementation and Details:**\n",
        "- First we combine the inputs in a unified data structure, along with adding an index.\n",
        "- Then, we sort the input in increasing order of relDate.\n",
        "- At each step *i*:\n",
        "  - We iterate over the sorted inputs (*i* to *n-1*) to find *index* of the next job with the minimum procTime such that its relDate is less than the current job's end time.\n",
        "  - Calculate the end time of next job.\n",
        "  - Swap the rows with indices *i* and *index*.\n",
        "- Calculate the max lateness of all jobs"
      ]
    },
    {
      "cell_type": "code",
      "metadata": {
        "id": "xKwtpPPE8KUH"
      },
      "source": [
        "def SJF(procTime, relDate, dueDate):\n",
        "  # for runtime and time complexity\n",
        "  function_start_time = time.time()\n",
        "  best_job_order = list()\n",
        "  \n",
        "  # define numpy array for storing parameters\n",
        "  params=np.zeros((0,6))\n",
        "  jobId = [i for i in range(len(procTime))]\n",
        "  \n",
        "  # sort the data as per relData\n",
        "  relDate_s, dueDate_s, procTime_s, jobId_s = map(list, zip(*sorted(zip(relDate, dueDate, procTime, jobId), reverse=False)))\n",
        "  \n",
        "  #Data preprocessing to convert it into usable format\n",
        "  for i in range(len(procTime)):\n",
        "    list1=(i+1,relDate_s[i], procTime_s[i], 0,dueDate_s[i], jobId_s[i])\n",
        "    params=np.vstack([params,list1])\n",
        "\n",
        "  #Initialize lateness \n",
        "  lateness=0\n",
        "\n",
        "  #keep track of swapping indices\n",
        "  index=0  \n",
        "\n",
        "  #total time when execution of first job is finished\n",
        "  params[0][3]=params[0][1]+params[0][2]  \n",
        "  best_job_order.append(int(params[0][5]))\n",
        "\n",
        "  #Get number of rows \n",
        "  n,col=params.shape\n",
        "\n",
        "  #run from 1 to n-1 because 1st job (index 0) will always run first. Total n-1 processes will run as a result of this loop\n",
        "  for i in range(1,n):   \n",
        "    #find time when currently processing job gets over\n",
        "    curr_time=params[i-1][3]      \n",
        "    #assume the next indice has job of minimum procTime\n",
        "    minimum=params[i][2]  \n",
        "\n",
        "    job_available = False\n",
        "\n",
        "    #find the minimum time among all currently available jobs (relDate<mimimum)\n",
        "    while job_available == False:\n",
        "      for j in range(i,n):  \n",
        "        if (curr_time>=params[j][1] and minimum >= params[j][2]):\n",
        "          minimum,index=params[j][2],j\n",
        "          job_available = True\n",
        "      curr_time += 1\n",
        "\n",
        "    #update the time when the available job with minimum time will get over (new time)        \n",
        "    params[index][3]=curr_time+params[index][2]   \n",
        "    \n",
        "    #Swap the rows \n",
        "    for z in range(0,6):\n",
        "      params[index][z],params[i][z]=params[i][z],params[index][z]  \n",
        "    best_job_order.append(int(params[i][5]))\n",
        "\n",
        "  # Execution of all n processes is complete! Now we calculate maximum lateness\n",
        "  for i in range(0,n):\n",
        "    #lateness=(Completion Time)-(Due date)\n",
        "    lateness=max(lateness,params[i][3]-params[i][4])  \n",
        "\n",
        "  function_end_time = time.time()  \n",
        "  function_total_time = function_end_time - function_start_time\n",
        "  return lateness, best_job_order, function_total_time"
      ],
      "execution_count": null,
      "outputs": []
    },
    {
      "cell_type": "code",
      "metadata": {
        "id": "WBpoBPBDdNcN",
        "colab": {
          "base_uri": "https://localhost:8080/"
        },
        "outputId": "f6c5212b-2f4f-4af8-873e-94497cec171a"
      },
      "source": [
        "min_lateness, best_job_order, function_total_time = SJF(procTime2, relDate2, dueDate2)\n",
        "print(min_lateness)\n",
        "print(best_job_order)\n",
        "print(function_total_time)"
      ],
      "execution_count": null,
      "outputs": [
        {
          "output_type": "stream",
          "name": "stdout",
          "text": [
            "3.0\n",
            "[0, 1, 2]\n",
            "0.00021147727966308594\n"
          ]
        }
      ]
    },
    {
      "cell_type": "markdown",
      "metadata": {
        "id": "3i8O2YJA7jKQ"
      },
      "source": [
        "## Earliest Due Date Scheduling\n",
        "\n",
        "\n",
        "> EDD gives preference to the job with the earliest deadline in the available job pool.\n",
        "\n",
        "---\n",
        "**Input:**\n",
        "- procTime\n",
        "- relDate\n",
        "- dueDate\n",
        "\n",
        "**Output:**\n",
        "- min_lateness\n",
        "- best_job_order\n",
        "- function_total_time\n",
        "\n",
        "---\n",
        "**Implementation and Details:**\n",
        "- First we combine the inputs in a unified data structure, along with adding an index.\n",
        "- Then, we sort the input in increasing order of relDate.\n",
        "- At each step *i*:\n",
        "  - We iterate over the sorted inputs (*i* to *n-1*) to find *index* of next job with the minimum dueDate.\n",
        "  - Calculate the end time of next job.\n",
        "  - Swap the rows with indices *i* and *index*.\n",
        "- Calculate the max lateness of all jobs"
      ]
    },
    {
      "cell_type": "code",
      "metadata": {
        "id": "YxzBTXXIGLox"
      },
      "source": [
        "def EDD(procTime, relDate, dueDate):\n",
        "  function_start_time = time.time()\n",
        "  best_job_order = list()\n",
        "  \n",
        "  #Sort according to arrival time\n",
        "  params=np.zeros((0,6))\n",
        "  jobId = [i for i in range(len(procTime))]\n",
        "  \n",
        "  relDate_s, dueDate_s, procTime_s, jobId_s = map(list, zip(*sorted(zip(relDate, dueDate, procTime, jobId), reverse=False)))\n",
        "  \n",
        "  #Data preprocessing to convert it into usable format\n",
        "  for i in range(len(procTime)):\n",
        "    list1=(i+1,relDate_s[i], procTime_s[i], 0,dueDate_s[i], jobId_s[i])\n",
        "    params=np.vstack([params,list1])\n",
        "\n",
        "  #Initialize lateness \n",
        "  lateness=0\n",
        "\n",
        "  #keep track of swapping indices\n",
        "  index=0  \n",
        "\n",
        "  #total time when execution of first job is finished\n",
        "  params[0][3]=params[0][1]+params[0][2]  \n",
        "  best_job_order.append(int(params[0][5]))\n",
        "\n",
        "  #Get number of rows \n",
        "  n,col=params.shape\n",
        "\n",
        "  #run from 1 to n-1 because 1st job (index 0) will always run first. Total n-1 processes will run as a result of this loop\n",
        "  for i in range(1,n):\n",
        "    #find time when currently processing job gets over\n",
        "    curr_time=params[i-1][3]      \n",
        "    #assume the next indice has job of minimum dueDate\n",
        "    minimum=params[i][4]\n",
        "\n",
        "    #find the lowest dueDate time among all currently available jobs (dueDate<mimimum)\n",
        "    for j in range(i,n):\n",
        "      if (minimum >= params[j][4]):\n",
        "        minimum,index=params[j][4],j\n",
        "    \n",
        "    #update the time when the available job with lowest dueDate will get over (new time)  \n",
        "    params[index][3]=max(curr_time, params[index][1])+params[index][2] \n",
        "\n",
        "    #Swap the rows \n",
        "    for z in range(0,6):\n",
        "      params[index][z],params[i][z]=params[i][z],params[index][z]  \n",
        "\n",
        "    best_job_order.append(int(params[i][5]))\n",
        "\n",
        "  # Execution of all n processes is complete! Now we calculate maximum lateness\n",
        "  for i in range(0,n):\n",
        "    #lateness=(Completion Time)-(due date)\n",
        "    lateness=max(lateness,params[i][3]-params[i][4])  \n",
        "\n",
        "  # print(params)\n",
        "\n",
        "  function_end_time = time.time()  \n",
        "  function_total_time = function_end_time - function_start_time\n",
        "  return lateness, best_job_order, function_total_time"
      ],
      "execution_count": null,
      "outputs": []
    },
    {
      "cell_type": "code",
      "metadata": {
        "id": "q2FHK3t4ae7S",
        "colab": {
          "base_uri": "https://localhost:8080/"
        },
        "outputId": "766cf9e0-6e70-4bc6-c46e-c8ea2a16de73"
      },
      "source": [
        "min_lateness, best_job_order, function_total_time = EDD(procTime2, relDate2, dueDate2)\n",
        "print(min_lateness)\n",
        "print(best_job_order)\n",
        "print(function_total_time)"
      ],
      "execution_count": null,
      "outputs": [
        {
          "output_type": "stream",
          "name": "stdout",
          "text": [
            "3.0\n",
            "[0, 1, 2]\n",
            "0.000232696533203125\n"
          ]
        }
      ]
    },
    {
      "cell_type": "markdown",
      "metadata": {
        "id": "iia05DJY2LdF"
      },
      "source": [
        "## Largest Job First Scheduling\n",
        "\n",
        "\n",
        "> LJF gives preference to the job with the longest processing time in the available job pool.\n",
        "\n",
        "---\n",
        "**Input:**\n",
        "- procTime\n",
        "- relDate\n",
        "- dueDate\n",
        "\n",
        "**Output:**\n",
        "- min_lateness\n",
        "- best_job_order\n",
        "- function_total_time\n",
        "\n",
        "---\n",
        "**Implementation and Details:**\n",
        "- First we combine the inputs in a unified data structure, along with adding an index.\n",
        "- Then, we sort the input in increasing order of relDate.\n",
        "- At each step *i*:\n",
        "  - We iterate over the sorted inputs (*i* to *n*) to find *index* of the next job with the maximum procTime such that its relDate is less than the current job's end time.\n",
        "  - Calculate the end time of next job.\n",
        "  - Swap the rows with indices *i* and *index*.\n",
        "- Calculate the max lateness of all jobs"
      ]
    },
    {
      "cell_type": "code",
      "metadata": {
        "id": "impDUsvgKZUN"
      },
      "source": [
        "def LJF(procTime, relDate, dueDate):\n",
        "  function_start_time = time.time()\n",
        "  best_job_order = list()\n",
        "\n",
        "#Sort according to arrival time\n",
        "  params=np.zeros((0,6))\n",
        "\n",
        "  jobId = [i for i in range(len(procTime))]\n",
        "  relDate_s, dueDate_s, procTime_s, jobId_s = map(list, zip(*sorted(zip(relDate, dueDate, procTime, jobId), reverse=False)))\n",
        "  \n",
        "  #Data preprocessing to convert it into usable format\n",
        "  for i in range(len(procTime)):\n",
        "    list1=(i+1,relDate_s[i], procTime_s[i], 0,dueDate_s[i], jobId_s[i])\n",
        "    params=np.vstack([params,list1])\n",
        "\n",
        "  #Initialize lateness \n",
        "  lateness=0\n",
        "\n",
        "  #keep track of swapping indices\n",
        "  index=0  \n",
        "\n",
        "  #total time when execution of first job is finished\n",
        "  params[0][3]=params[0][1]+params[0][2]  \n",
        "  best_job_order.append(int(params[0][5]))\n",
        "\n",
        "  #Get number of rows \n",
        "  n,col=params.shape\n",
        "\n",
        "  #run from 1 to n-1 because 1st job (index 0) will always run first. Total n-1 processes will run as a result of this loop\n",
        "  for i in range(1,n):\n",
        "    #find time when currently processing job gets over\n",
        "    curr_time=params[i-1][3]\n",
        "    #assume the next indice has job of maximum procTime\n",
        "    maximum=params[i][2]\n",
        "\n",
        "    job_available = False\n",
        "    #find the maximum time among all currently available jobs (relDate>time)\n",
        "    while job_available == False:\n",
        "      for j in range(i,n):\n",
        "        if (curr_time>=params[j][1] and maximum <= params[j][2]):\n",
        "          maximum,index=params[j][2],j\n",
        "          job_available = True\n",
        "      curr_time += 1\n",
        "\n",
        "    #update the time when the available job with maximum time will get over (new time)  \n",
        "    params[index][3]=curr_time+params[index][2]\n",
        "\n",
        "    #Swap the rows \n",
        "    for z in range(0,5):\n",
        "      params[index][z],params[i][z]=params[i][z],params[index][z]  \n",
        "    best_job_order.append(int(params[i][5]))\n",
        "\n",
        "  # Execution of all n processes is complete! Now we calculate maximum lateness\n",
        "  for i in range(0,n):\n",
        "    #lateness=(Completion Time)-(due date)\n",
        "    lateness=max(lateness,params[i][3]-params[i][4])  \n",
        "\n",
        "  function_end_time = time.time()  \n",
        "  function_total_time = function_end_time - function_start_time\n",
        "  return lateness, best_job_order, function_total_time"
      ],
      "execution_count": null,
      "outputs": []
    },
    {
      "cell_type": "code",
      "source": [
        "min_lateness, best_job_order, function_total_time = LJF(procTime2, relDate2, dueDate2)\n",
        "print(min_lateness)\n",
        "print(best_job_order)\n",
        "print(function_total_time)"
      ],
      "metadata": {
        "id": "4sx0I1mYHMgq",
        "colab": {
          "base_uri": "https://localhost:8080/"
        },
        "outputId": "64f3a5ac-32e7-490f-825e-ce9d076315a5"
      },
      "execution_count": null,
      "outputs": [
        {
          "output_type": "stream",
          "name": "stdout",
          "text": [
            "8.0\n",
            "[0, 2, 1]\n",
            "0.0001983642578125\n"
          ]
        }
      ]
    },
    {
      "cell_type": "markdown",
      "source": [
        "# Tests"
      ],
      "metadata": {
        "id": "raAApiW-BW56"
      }
    },
    {
      "cell_type": "code",
      "metadata": {
        "colab": {
          "base_uri": "https://localhost:8080/"
        },
        "id": "iTsk2aC_K_W4",
        "outputId": "691ee8ce-7ed9-4485-c4b5-0474bad5101c"
      },
      "source": [
        "LJF(procTime, relDate, dueDate)"
      ],
      "execution_count": null,
      "outputs": [
        {
          "output_type": "execute_result",
          "data": {
            "text/plain": [
              "(435.0, [4, 7, 6, 3, 2, 1, 5, 0], 0.00046443939208984375)"
            ]
          },
          "metadata": {},
          "execution_count": 14
        }
      ]
    },
    {
      "cell_type": "code",
      "metadata": {
        "id": "-vZeIhoFu2Ni",
        "colab": {
          "base_uri": "https://localhost:8080/"
        },
        "outputId": "045a2646-8a8f-45fe-cef3-5b64e95d140c"
      },
      "source": [
        "FCFS(procTime, relDate, dueDate)"
      ],
      "execution_count": null,
      "outputs": [
        {
          "output_type": "execute_result",
          "data": {
            "text/plain": [
              "(408, [4, 7, 6, 3, 2, 1, 5, 0], 7.987022399902344e-05)"
            ]
          },
          "metadata": {},
          "execution_count": 15
        }
      ]
    },
    {
      "cell_type": "code",
      "metadata": {
        "id": "4YO2peZ_KE3E",
        "colab": {
          "base_uri": "https://localhost:8080/"
        },
        "outputId": "a47de8bc-e5a9-42a7-fc49-250cbf9fb9aa"
      },
      "source": [
        "EDD(procTime, relDate, dueDate)"
      ],
      "execution_count": null,
      "outputs": [
        {
          "output_type": "execute_result",
          "data": {
            "text/plain": [
              "(361.0, [4, 5, 7, 3, 0, 1, 6, 2], 0.0016465187072753906)"
            ]
          },
          "metadata": {},
          "execution_count": 16
        }
      ]
    },
    {
      "cell_type": "code",
      "metadata": {
        "id": "7yZDq1P7GHy3",
        "colab": {
          "base_uri": "https://localhost:8080/"
        },
        "outputId": "b9b15868-94a8-4d39-a1bc-0a08c7f6a62c"
      },
      "source": [
        "SJF(procTime, relDate, dueDate)"
      ],
      "execution_count": null,
      "outputs": [
        {
          "output_type": "execute_result",
          "data": {
            "text/plain": [
              "(423.0, [4, 5, 2, 7, 6, 0, 1, 3], 0.0006089210510253906)"
            ]
          },
          "metadata": {},
          "execution_count": 17
        }
      ]
    },
    {
      "cell_type": "markdown",
      "metadata": {
        "id": "FH5PfKO82gp-"
      },
      "source": [
        "# Distance Metrics\n",
        "\n",
        "\n",
        "> Hamming Distance: Number of places where the 2 job permutations differ\n",
        "\n",
        "> RMS: Root mean squared distance between 2 different job orders\n",
        "\n",
        "> Manhattan Distance: Sum of the absolute differences between the two job orders\n",
        "\n",
        "\n"
      ]
    },
    {
      "cell_type": "code",
      "metadata": {
        "id": "cb5cezwr2gqC"
      },
      "source": [
        "def HD(perm1, perm2):\n",
        "  hd = 0\n",
        "  for i in range(len(perm1)):\n",
        "    if perm1[i]!=perm2[i]:\n",
        "      hd+=1\n",
        "  return hd"
      ],
      "execution_count": null,
      "outputs": []
    },
    {
      "cell_type": "code",
      "metadata": {
        "id": "NW5UX9xl2gqG"
      },
      "source": [
        "def RMS(perm1, perm2):\n",
        "  return mean_squared_error(perm1, perm2)"
      ],
      "execution_count": null,
      "outputs": []
    },
    {
      "cell_type": "code",
      "metadata": {
        "id": "5-1UvKYZ2gqH"
      },
      "source": [
        "def MHN(perm1, perm2):\n",
        "  return sum(abs(val1-val2) for val1, val2 in zip(perm1, perm2))"
      ],
      "execution_count": null,
      "outputs": []
    },
    {
      "cell_type": "markdown",
      "source": [
        "## Testing Distance Metrics"
      ],
      "metadata": {
        "id": "HfX3MZ9ej9kr"
      }
    },
    {
      "cell_type": "code",
      "metadata": {
        "colab": {
          "base_uri": "https://localhost:8080/"
        },
        "id": "6As6hFy4c4kb",
        "outputId": "2a85268e-5d4e-4706-f817-8e4149f1d3eb"
      },
      "source": [
        "a = [0,1,2]\n",
        "b = [0,2,1]\n",
        "print(HD(a,b))\n",
        "print(RMS(a,b))\n",
        "print(MHN(a,b))"
      ],
      "execution_count": null,
      "outputs": [
        {
          "output_type": "stream",
          "name": "stdout",
          "text": [
            "2\n",
            "0.6666666666666666\n",
            "2\n"
          ]
        }
      ]
    },
    {
      "cell_type": "markdown",
      "metadata": {
        "id": "xUY-UEm-7tf1"
      },
      "source": [
        "# Visualization and Results"
      ]
    },
    {
      "cell_type": "markdown",
      "source": [
        "## Simulate 100 random instances for n=2 to 8 "
      ],
      "metadata": {
        "id": "VnqvZ-RG3EmS"
      }
    },
    {
      "cell_type": "code",
      "metadata": {
        "id": "IsS79IL7UdVv"
      },
      "source": [
        "%%capture\n",
        "# Introduce Lateness variables for all Algorithms\n",
        "x_ljf_lateness=[]\n",
        "x_sjf_lateness=[]\n",
        "x_edd_lateness=[]\n",
        "x_fcfs_lateness=[]\n",
        "\n",
        "# Introduce Hamming Distance variables for all Algorithms\n",
        "x_ljf_hd=[]\n",
        "x_sjf_hd=[]\n",
        "x_edd_hd=[]\n",
        "x_fcfs_hd=[]\n",
        "\n",
        "# Introduce Time taken variables for all Algorithms\n",
        "x_ljf_time=[]\n",
        "x_sjf_time=[]\n",
        "x_edd_time=[]\n",
        "x_fcfs_time=[]\n",
        "x_brute_time=[]\n",
        "\n",
        "# Introduce Root Mean Square variables for all Algorithms\n",
        "x_ljf_rms=[]\n",
        "x_sjf_rms=[]\n",
        "x_edd_rms=[]\n",
        "x_fcfs_rms=[]\n",
        "\n",
        "# Introduce Manhattan Distance variables for all Algorithms\n",
        "x_ljf_mhn=[]\n",
        "x_sjf_mhn=[]\n",
        "x_edd_mhn=[]\n",
        "x_fcfs_mhn=[]\n",
        "\n",
        "\n",
        "for i in range(2, 10):\n",
        "  ljf = []\n",
        "  fcfs = []\n",
        "  edd = []\n",
        "  sjf = []\n",
        "\n",
        "  ljf_hd = []\n",
        "  fcfs_hd = []\n",
        "  edd_hd = []\n",
        "  sjf_hd = []\n",
        "\n",
        "  brute_time = []\n",
        "  ljf_time = []\n",
        "  fcfs_time = []\n",
        "  edd_time = []\n",
        "  sjf_time = []\n",
        "\n",
        "  ljf_rms = []\n",
        "  fcfs_rms = []\n",
        "  edd_rms = []\n",
        "  sjf_rms = []\n",
        "\n",
        "  ljf_mhn = []\n",
        "  fcfs_mhn = []\n",
        "  edd_mhn = []\n",
        "  sjf_mhn = []\n",
        "\n",
        "\n",
        "  print(\">>> Input size:\",i)\n",
        "  for j in tqdm(range(1, 101)):\n",
        "\n",
        "    # Initialize a seed for reproducible results \n",
        "    np.random.seed(j*j)\n",
        "\n",
        "    # Initialize procTime, relDate and dueDate variables with given seed\n",
        "    procTime = np.random.randint(1,101,i)\n",
        "    relDate = np.random.randint(0,101,i)\n",
        "    dueDate = np.random.randint(-100,0,i)\n",
        "    \n",
        "    # Calculate minimum lateness, best job order and total time taken for all 5 algorithms\n",
        "    bf_min_lateness, bf_best_job_order, bf_function_total_time = bruteForce(procTime, relDate, dueDate)\n",
        "    lj_min_lateness, lj_best_job_order, lj_function_total_time = LJF(procTime, relDate, dueDate)\n",
        "    fc_min_lateness, fc_best_job_order, fc_function_total_time = FCFS(procTime, relDate, dueDate)\n",
        "    ed_min_lateness, ed_best_job_order, ed_function_total_time = EDD(procTime, relDate, dueDate)\n",
        "    sj_min_lateness, sj_best_job_order, sj_function_total_time = SJF(procTime, relDate, dueDate)\n",
        "\n",
        "    # Hamming Distance\n",
        "    fc_hd = HD(fc_best_job_order, bf_best_job_order)\n",
        "    ed_hd = HD(ed_best_job_order, bf_best_job_order)\n",
        "    sj_hd = HD(sj_best_job_order, bf_best_job_order)\n",
        "    lj_hd = HD(lj_best_job_order, bf_best_job_order)\n",
        "\n",
        "    # RMS\n",
        "    fc_rms = RMS(fc_best_job_order, bf_best_job_order)\n",
        "    ed_rms = RMS(ed_best_job_order, bf_best_job_order)\n",
        "    sj_rms = RMS(sj_best_job_order, bf_best_job_order)\n",
        "    lj_rms = RMS(lj_best_job_order, bf_best_job_order)\n",
        "\n",
        "    # MHN\n",
        "    fc_mhn = MHN(fc_best_job_order, bf_best_job_order)\n",
        "    ed_mhn = MHN(ed_best_job_order, bf_best_job_order)\n",
        "    sj_mhn = MHN(sj_best_job_order, bf_best_job_order)\n",
        "    lj_mhn = MHN(lj_best_job_order, bf_best_job_order)\n",
        "\n",
        "    # Ratio between lateness of algorithm vs brute force\n",
        "    fcfs.append(fc_min_lateness/bf_min_lateness)\n",
        "    edd.append(ed_min_lateness/bf_min_lateness)\n",
        "    sjf.append(sj_min_lateness/bf_min_lateness)\n",
        "    ljf.append(lj_min_lateness/bf_min_lateness)\n",
        "\n",
        "    # Hamming Distance\n",
        "    fcfs_hd.append(fc_hd)\n",
        "    edd_hd.append(ed_hd)\n",
        "    sjf_hd.append(sj_hd)\n",
        "    ljf_hd.append(lj_hd)\n",
        "\n",
        "    # RMS\n",
        "    fcfs_rms.append(fc_rms)\n",
        "    edd_rms.append(ed_rms)\n",
        "    sjf_rms.append(sj_rms)\n",
        "    ljf_rms.append(lj_rms)\n",
        "\n",
        "    # MHN\n",
        "    fcfs_mhn.append(fc_mhn)\n",
        "    edd_mhn.append(ed_mhn)\n",
        "    sjf_mhn.append(sj_mhn)\n",
        "    ljf_mhn.append(lj_mhn)\n",
        "\n",
        "    # Time taken\n",
        "    brute_time.append(bf_function_total_time)\n",
        "    fcfs_time.append(fc_function_total_time)\n",
        "    edd_time.append(ed_function_total_time)\n",
        "    sjf_time.append(sj_function_total_time)\n",
        "    ljf_time.append(lj_function_total_time)\n",
        "\n",
        "  # COMPARISON RESULTS\n",
        "  \n",
        "  print(\"   Av LJF v Brute:\", sum(ljf)/len(ljf))\n",
        "  x_ljf_lateness.append(sum(ljf)/len(ljf))\n",
        "  print(\"   Av FCFS v Brute:\", sum(fcfs)/len(fcfs))\n",
        "  x_fcfs_lateness.append(sum(fcfs)/len(fcfs))\n",
        "  print(\"   Av EDD v Brute:\", sum(edd)/len(edd))\n",
        "  x_edd_lateness.append(sum(edd)/len(edd))\n",
        "  print(\"   Av SJF v Brute:\", sum(sjf)/len(sjf))\n",
        "  x_sjf_lateness.append(sum(sjf)/len(sjf))\n",
        "\n",
        "  print(\"------------------------------------------------------------------------\")\n",
        "  print(\"   Av LJF HD:\", sum(ljf_hd)/len(ljf_hd))\n",
        "  x_ljf_hd.append(sum(ljf_hd)/len(ljf_hd))\n",
        "  print(\"   Av FCFS HD:\", sum(fcfs_hd)/len(fcfs_hd))\n",
        "  x_fcfs_hd.append(sum(fcfs_hd)/len(fcfs_hd))\n",
        "  print(\"   Av EDD HD:\", sum(edd_hd)/len(edd_hd))\n",
        "  x_edd_hd.append(sum(edd_hd)/len(edd_hd))\n",
        "  print(\"   Av SJF HD:\", sum(sjf_hd)/len(sjf_hd))\n",
        "  x_sjf_hd.append(sum(sjf_hd)/len(sjf_hd))\n",
        "\n",
        "  print(\"------------------------------------------------------------------------\")\n",
        "  print(\"   Av Brute time:\", sum(brute_time)/len(brute_time))\n",
        "  x_brute_time.append(sum(brute_time)/len(brute_time))\n",
        "  print(\"   Av LJF time:\", sum(ljf_time)/len(ljf_time))\n",
        "  x_ljf_time.append(sum(ljf_time)/len(ljf_time))\n",
        "  print(\"   Av FCFS time:\", sum(fcfs_time)/len(fcfs_time))\n",
        "  x_fcfs_time.append(sum(fcfs_time)/len(fcfs_time))\n",
        "  print(\"   Av EDD time:\", sum(edd_time)/len(edd_time))\n",
        "  x_edd_time.append(sum(edd_time)/len(edd_time))\n",
        "  print(\"   Av SJF time:\", sum(sjf_time)/len(sjf_time))\n",
        "  x_sjf_time.append(sum(sjf_time)/len(sjf_time))\n",
        "  print(\"------------------------------------------------------------------------\")\n",
        "\n",
        "  print(\"   Av LJF rms:\", sum(ljf_rms)/len(ljf_rms))\n",
        "  x_ljf_rms.append(sum(ljf_rms)/len(ljf_rms))\n",
        "  print(\"   Av FCFS rms:\", sum(fcfs_rms)/len(fcfs_rms))\n",
        "  x_fcfs_rms.append(sum(fcfs_rms)/len(fcfs_rms))\n",
        "  print(\"   Av EDD rms:\", sum(edd_rms)/len(edd_rms))\n",
        "  x_edd_rms.append(sum(edd_rms)/len(edd_rms))\n",
        "  print(\"   Av SJF rms:\", sum(sjf_rms)/len(sjf_rms))\n",
        "  x_sjf_rms.append(sum(sjf_rms)/len(sjf_rms))\n",
        "\n",
        "  print(\"------------------------------------------------------------------------\")\n",
        "\n",
        "  print(\"   Av LJF mhn:\", sum(ljf_mhn)/len(ljf_mhn))\n",
        "  x_ljf_mhn.append(sum(ljf_mhn)/len(ljf_mhn))\n",
        "  print(\"   Av FCFS mhn:\", sum(fcfs_mhn)/len(fcfs_mhn))\n",
        "  x_fcfs_mhn.append(sum(fcfs_mhn)/len(fcfs_mhn))\n",
        "  print(\"   Av EDD mhn:\", sum(edd_mhn)/len(edd_mhn))\n",
        "  x_edd_mhn.append(sum(edd_mhn)/len(edd_mhn))\n",
        "  print(\"   Av SJF mhn:\", sum(sjf_mhn)/len(sjf_mhn))\n",
        "  x_sjf_mhn.append(sum(sjf_mhn)/len(sjf_mhn))\n",
        "\n",
        "  print(\"------------------------------------------------------------------------\")"
      ],
      "execution_count": null,
      "outputs": []
    },
    {
      "cell_type": "markdown",
      "source": [
        "## Visualization"
      ],
      "metadata": {
        "id": "pO5OzE4qBgH3"
      }
    },
    {
      "cell_type": "markdown",
      "source": [
        "### Lateness Plot\n"
      ],
      "metadata": {
        "id": "9VY5ML3OCIA7"
      }
    },
    {
      "cell_type": "code",
      "metadata": {
        "colab": {
          "base_uri": "https://localhost:8080/",
          "height": 728
        },
        "id": "PQClIEC0Ep7A",
        "outputId": "ac3b2a4c-c106-499c-fff5-91ee2d8dd9b7"
      },
      "source": [
        "integer_array=np.arange(start=2,stop=10,step=1)\n",
        "\n",
        "# Setup for visualization\n",
        "sns.set_style('white')\n",
        "sns.color_palette('deep')\n",
        "plt.figure(figsize=(20,12), tight_layout=False)\n",
        "plt.rc('axes', titlesize=18)     # fontsize of the axes title\n",
        "plt.rc('axes', labelsize=15)     # fontsize of the x and y labels\n",
        "plt.rc('xtick', labelsize=18)    # fontsize of the tick labels\n",
        "plt.rc('ytick', labelsize=18)    # fontsize of the tick labels\n",
        "plt.rc('legend', fontsize=18)    # legend fontsize\n",
        "plt.rc('font', size=16)          # controls default text sizes\n",
        "plt.subplot(1,2,1)\n",
        "\n",
        "# Plot of Lateness Ratios of each algorithm w.r.t Brute force\n",
        "plt.title(\"Average Ratio of Lateness vs Brute:\")\n",
        "plt.plot(integer_array, x_fcfs_lateness, label=\"fcfs\")\n",
        "plt.plot(integer_array, x_ljf_lateness, label=\"ljf\")\n",
        "plt.plot(integer_array, x_sjf_lateness, label=\"sjf\")\n",
        "plt.plot(integer_array, x_edd_lateness, label=\"edd\")\n",
        "plt.legend(loc=\"upper left\")\n",
        "plt.show()"
      ],
      "execution_count": null,
      "outputs": [
        {
          "output_type": "display_data",
          "data": {
            "image/png": "[encoded data removed]",
            "text/plain": [
              "<Figure size 1440x864 with 1 Axes>"
            ]
          },
          "metadata": {}
        }
      ]
    },
    {
      "cell_type": "markdown",
      "source": [
        "### Run Time plot"
      ],
      "metadata": {
        "id": "GQvjLtHcCRy7"
      }
    },
    {
      "cell_type": "code",
      "metadata": {
        "colab": {
          "base_uri": "https://localhost:8080/",
          "height": 293
        },
        "id": "LJXrFdVuFF9Z",
        "outputId": "f0161470-7884-428a-adbd-6bff89d8b007"
      },
      "source": [
        "# Plot of average run times of each algorithm w.r.t n\n",
        "\n",
        "plt.title(\"Run Time\")\n",
        "plt.plot(integer_array, x_fcfs_time, label=\"fcfs\")\n",
        "plt.plot(integer_array, x_ljf_time, label=\"ljf\")\n",
        "plt.plot(integer_array, x_sjf_time, label=\"sjf\")\n",
        "plt.plot(integer_array, x_edd_time, label=\"edd\")\n",
        "plt.legend(loc=\"upper left\")\n",
        "plt.show()"
      ],
      "execution_count": null,
      "outputs": [
        {
          "output_type": "display_data",
          "data": {
            "image/png": "[encoded data removed]",
            "text/plain": [
              "<Figure size 432x288 with 1 Axes>"
            ]
          },
          "metadata": {}
        }
      ]
    },
    {
      "cell_type": "markdown",
      "source": [
        "### Hamming Distance Plot"
      ],
      "metadata": {
        "id": "XGCwgX6zCLdj"
      }
    },
    {
      "cell_type": "code",
      "metadata": {
        "colab": {
          "base_uri": "https://localhost:8080/",
          "height": 293
        },
        "id": "c7hOhieSFFvz",
        "outputId": "a85b833a-77ff-40fd-c5ac-adf5bd90523a"
      },
      "source": [
        "# Plot of average Hamming Distance of each algorithm w.r.t Brute force\n",
        "\n",
        "plt.title(\"Average Hamming Distance vs Brute\")\n",
        "plt.plot(integer_array, x_fcfs_hd, label=\"fcfs\")\n",
        "plt.plot(integer_array, x_ljf_hd, label=\"ljf\")\n",
        "plt.plot(integer_array, x_sjf_hd, label=\"sjf\")\n",
        "plt.plot(integer_array, x_edd_hd, label=\"edd\")\n",
        "plt.legend(loc=\"upper left\")\n",
        "plt.show()"
      ],
      "execution_count": null,
      "outputs": [
        {
          "output_type": "display_data",
          "data": {
            "image/png": "[encoded data removed]",
            "text/plain": [
              "<Figure size 432x288 with 1 Axes>"
            ]
          },
          "metadata": {}
        }
      ]
    },
    {
      "cell_type": "markdown",
      "source": [
        "### RMS Plot"
      ],
      "metadata": {
        "id": "BPSoe7tqCUUG"
      }
    },
    {
      "cell_type": "code",
      "metadata": {
        "colab": {
          "base_uri": "https://localhost:8080/",
          "height": 293
        },
        "id": "DdHq1tm3FHXv",
        "outputId": "14c7dcc6-b35e-45a9-a499-d43aa3a71767"
      },
      "source": [
        "# Plot of average RMS of each algorithm w.r.t Brute force\n",
        "\n",
        "plt.title(\"Average RMS vs Brute:\")\n",
        "plt.plot(integer_array, x_fcfs_rms, label=\"fcfs\")\n",
        "plt.plot(integer_array, x_ljf_rms, label=\"ljf\")\n",
        "plt.plot(integer_array, x_sjf_rms, label=\"sjf\")\n",
        "plt.plot(integer_array, x_edd_rms, label=\"edd\")\n",
        "plt.legend(loc=\"upper left\")\n",
        "plt.show()"
      ],
      "execution_count": null,
      "outputs": [
        {
          "output_type": "display_data",
          "data": {
            "image/png": "[encoded data removed]",
            "text/plain": [
              "<Figure size 432x288 with 1 Axes>"
            ]
          },
          "metadata": {}
        }
      ]
    },
    {
      "cell_type": "markdown",
      "source": [
        "### Manhattan Distance"
      ],
      "metadata": {
        "id": "ixtg9ZL-CpOO"
      }
    },
    {
      "cell_type": "code",
      "metadata": {
        "colab": {
          "base_uri": "https://localhost:8080/",
          "height": 293
        },
        "id": "oYSkRL-RJ4W4",
        "outputId": "0946d4ec-fb38-4b11-f069-53f53080330d"
      },
      "source": [
        "# Plot of average Manhattan Distance of each algorithm w.r.t Brute force\n",
        "\n",
        "plt.title(\"Average Manhattan Distance vs Brute:\")\n",
        "plt.plot(integer_array, x_fcfs_mhn, label=\"fcfs\")\n",
        "plt.plot(integer_array, x_ljf_mhn, label=\"ljf\")\n",
        "plt.plot(integer_array, x_sjf_mhn, label=\"sjf\")\n",
        "plt.plot(integer_array, x_edd_mhn, label=\"edd\")\n",
        "plt.legend(loc=\"upper left\")\n",
        "plt.show()"
      ],
      "execution_count": null,
      "outputs": [
        {
          "output_type": "display_data",
          "data": {
            "image/png": "[encoded data removed]",
            "text/plain": [
              "<Figure size 432x288 with 1 Axes>"
            ]
          },
          "metadata": {}
        }
      ]
    },
    {
      "cell_type": "markdown",
      "source": [
        "**Observations from the above graphs:**\n",
        "\n",
        "* For most input instances the approximation ratio for earliest due date first is the lowest. This suggests that the EDD algorithm, generally speaking is the best performing algorithm (gives least max lateness) and LJF is at the other end of the spectrum (gives maximum max lateness).\n",
        "\n",
        "* This is further confirmed by comparing the best job orders with the optimal job order using the 3 distances. The graphs for average values of EDD are much lower than the other algorithms."
      ],
      "metadata": {
        "id": "des9lCS-7e8J"
      }
    }
  ]
}